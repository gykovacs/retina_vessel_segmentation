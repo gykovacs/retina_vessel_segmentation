{
 "metadata": {
  "language_info": {
   "codemirror_mode": {
    "name": "ipython",
    "version": 3
   },
   "file_extension": ".py",
   "mimetype": "text/x-python",
   "name": "python",
   "nbconvert_exporter": "python",
   "pygments_lexer": "ipython3",
   "version": "3.7.0-final"
  },
  "orig_nbformat": 2,
  "kernelspec": {
   "name": "python3",
   "display_name": "Python 3",
   "language": "python"
  }
 },
 "nbformat": 4,
 "nbformat_minor": 2,
 "cells": [
  {
   "source": [
    "# Extracting some figures to illustrate the difference in scores when using the FoV and without using the FoV"
   ],
   "cell_type": "markdown",
   "metadata": {}
  },
  {
   "cell_type": "code",
   "execution_count": 1,
   "metadata": {},
   "outputs": [],
   "source": [
    "import pandas as pd\n",
    "import numpy as np\n",
    "import os.path\n",
    "from PIL import Image\n",
    "\n",
    "from config import drive_dir, figures_dir, image_stats_file"
   ]
  },
  {
   "cell_type": "code",
   "execution_count": 2,
   "metadata": {},
   "outputs": [],
   "source": [
    "# reading the \n",
    "data= pd.read_csv(image_stats_file)"
   ]
  },
  {
   "cell_type": "code",
   "execution_count": 3,
   "metadata": {},
   "outputs": [
    {
     "output_type": "execute_result",
     "data": {
      "text/plain": [
       "     id   n_all      p       n    fov  annotator       tp      fp        tn  \\\n",
       "0    34  226542  32287  194255   True          1      NaN     NaN       NaN   \n",
       "1    34  329960  32287  297673  False          1      NaN     NaN       NaN   \n",
       "2    24  227726  38215  189511   True          1      NaN     NaN       NaN   \n",
       "3    24  329960  38229  291731  False          1      NaN     NaN       NaN   \n",
       "4    29  227309  27738  199571   True          1      NaN     NaN       NaN   \n",
       "..   ..     ...    ...     ...    ...        ...      ...     ...       ...   \n",
       "115  18  329960  30321  299639  False          2  22439.0  3705.0  295934.0   \n",
       "116  15  227394  23612  203782   True          1  18896.0  5720.0  198062.0   \n",
       "117  15  329960  23614  306346  False          1  18896.0  5720.0  300626.0   \n",
       "118  15  227394  24616  202778   True          2  18896.0  4716.0  198062.0   \n",
       "119  15  329960  24616  305344  False          2  18896.0  4718.0  300626.0   \n",
       "\n",
       "         fn  ground_truth  width  height  img_size   test       acc      sens  \\\n",
       "0       NaN           NaN    584     565    329960  False       NaN       NaN   \n",
       "1       NaN           NaN    584     565    329960  False       NaN       NaN   \n",
       "2       NaN           NaN    584     565    329960  False       NaN       NaN   \n",
       "3       NaN           NaN    584     565    329960  False       NaN       NaN   \n",
       "4       NaN           NaN    584     565    329960  False       NaN       NaN   \n",
       "..      ...           ...    ...     ...       ...    ...       ...       ...   \n",
       "115  7882.0           2.0    584     565    329960   True  0.964884  0.740048   \n",
       "116  4716.0           1.0    584     565    329960   True  0.954106  0.800271   \n",
       "117  4718.0           1.0    584     565    329960   True  0.968366  0.800203   \n",
       "118  5720.0           2.0    584     565    329960   True  0.954106  0.767631   \n",
       "119  5720.0           2.0    584     565    329960   True  0.968366  0.767631   \n",
       "\n",
       "         spec      dice  dice_no_fp  \n",
       "0         NaN       NaN         NaN  \n",
       "1         NaN       NaN         NaN  \n",
       "2         NaN       NaN         NaN  \n",
       "3         NaN       NaN         NaN  \n",
       "4         NaN       NaN         NaN  \n",
       "..        ...       ...         ...  \n",
       "115  0.987635  0.794793    0.850607  \n",
       "116  0.971931  0.783611    0.889056  \n",
       "117  0.981328  0.783579    0.889014  \n",
       "118  0.976743  0.783611    0.868542  \n",
       "119  0.984549  0.783579    0.868542  \n",
       "\n",
       "[120 rows x 20 columns]"
      ],
      "text/html": "<div>\n<style scoped>\n    .dataframe tbody tr th:only-of-type {\n        vertical-align: middle;\n    }\n\n    .dataframe tbody tr th {\n        vertical-align: top;\n    }\n\n    .dataframe thead th {\n        text-align: right;\n    }\n</style>\n<table border=\"1\" class=\"dataframe\">\n  <thead>\n    <tr style=\"text-align: right;\">\n      <th></th>\n      <th>id</th>\n      <th>n_all</th>\n      <th>p</th>\n      <th>n</th>\n      <th>fov</th>\n      <th>annotator</th>\n      <th>tp</th>\n      <th>fp</th>\n      <th>tn</th>\n      <th>fn</th>\n      <th>ground_truth</th>\n      <th>width</th>\n      <th>height</th>\n      <th>img_size</th>\n      <th>test</th>\n      <th>acc</th>\n      <th>sens</th>\n      <th>spec</th>\n      <th>dice</th>\n      <th>dice_no_fp</th>\n    </tr>\n  </thead>\n  <tbody>\n    <tr>\n      <th>0</th>\n      <td>34</td>\n      <td>226542</td>\n      <td>32287</td>\n      <td>194255</td>\n      <td>True</td>\n      <td>1</td>\n      <td>NaN</td>\n      <td>NaN</td>\n      <td>NaN</td>\n      <td>NaN</td>\n      <td>NaN</td>\n      <td>584</td>\n      <td>565</td>\n      <td>329960</td>\n      <td>False</td>\n      <td>NaN</td>\n      <td>NaN</td>\n      <td>NaN</td>\n      <td>NaN</td>\n      <td>NaN</td>\n    </tr>\n    <tr>\n      <th>1</th>\n      <td>34</td>\n      <td>329960</td>\n      <td>32287</td>\n      <td>297673</td>\n      <td>False</td>\n      <td>1</td>\n      <td>NaN</td>\n      <td>NaN</td>\n      <td>NaN</td>\n      <td>NaN</td>\n      <td>NaN</td>\n      <td>584</td>\n      <td>565</td>\n      <td>329960</td>\n      <td>False</td>\n      <td>NaN</td>\n      <td>NaN</td>\n      <td>NaN</td>\n      <td>NaN</td>\n      <td>NaN</td>\n    </tr>\n    <tr>\n      <th>2</th>\n      <td>24</td>\n      <td>227726</td>\n      <td>38215</td>\n      <td>189511</td>\n      <td>True</td>\n      <td>1</td>\n      <td>NaN</td>\n      <td>NaN</td>\n      <td>NaN</td>\n      <td>NaN</td>\n      <td>NaN</td>\n      <td>584</td>\n      <td>565</td>\n      <td>329960</td>\n      <td>False</td>\n      <td>NaN</td>\n      <td>NaN</td>\n      <td>NaN</td>\n      <td>NaN</td>\n      <td>NaN</td>\n    </tr>\n    <tr>\n      <th>3</th>\n      <td>24</td>\n      <td>329960</td>\n      <td>38229</td>\n      <td>291731</td>\n      <td>False</td>\n      <td>1</td>\n      <td>NaN</td>\n      <td>NaN</td>\n      <td>NaN</td>\n      <td>NaN</td>\n      <td>NaN</td>\n      <td>584</td>\n      <td>565</td>\n      <td>329960</td>\n      <td>False</td>\n      <td>NaN</td>\n      <td>NaN</td>\n      <td>NaN</td>\n      <td>NaN</td>\n      <td>NaN</td>\n    </tr>\n    <tr>\n      <th>4</th>\n      <td>29</td>\n      <td>227309</td>\n      <td>27738</td>\n      <td>199571</td>\n      <td>True</td>\n      <td>1</td>\n      <td>NaN</td>\n      <td>NaN</td>\n      <td>NaN</td>\n      <td>NaN</td>\n      <td>NaN</td>\n      <td>584</td>\n      <td>565</td>\n      <td>329960</td>\n      <td>False</td>\n      <td>NaN</td>\n      <td>NaN</td>\n      <td>NaN</td>\n      <td>NaN</td>\n      <td>NaN</td>\n    </tr>\n    <tr>\n      <th>...</th>\n      <td>...</td>\n      <td>...</td>\n      <td>...</td>\n      <td>...</td>\n      <td>...</td>\n      <td>...</td>\n      <td>...</td>\n      <td>...</td>\n      <td>...</td>\n      <td>...</td>\n      <td>...</td>\n      <td>...</td>\n      <td>...</td>\n      <td>...</td>\n      <td>...</td>\n      <td>...</td>\n      <td>...</td>\n      <td>...</td>\n      <td>...</td>\n      <td>...</td>\n    </tr>\n    <tr>\n      <th>115</th>\n      <td>18</td>\n      <td>329960</td>\n      <td>30321</td>\n      <td>299639</td>\n      <td>False</td>\n      <td>2</td>\n      <td>22439.0</td>\n      <td>3705.0</td>\n      <td>295934.0</td>\n      <td>7882.0</td>\n      <td>2.0</td>\n      <td>584</td>\n      <td>565</td>\n      <td>329960</td>\n      <td>True</td>\n      <td>0.964884</td>\n      <td>0.740048</td>\n      <td>0.987635</td>\n      <td>0.794793</td>\n      <td>0.850607</td>\n    </tr>\n    <tr>\n      <th>116</th>\n      <td>15</td>\n      <td>227394</td>\n      <td>23612</td>\n      <td>203782</td>\n      <td>True</td>\n      <td>1</td>\n      <td>18896.0</td>\n      <td>5720.0</td>\n      <td>198062.0</td>\n      <td>4716.0</td>\n      <td>1.0</td>\n      <td>584</td>\n      <td>565</td>\n      <td>329960</td>\n      <td>True</td>\n      <td>0.954106</td>\n      <td>0.800271</td>\n      <td>0.971931</td>\n      <td>0.783611</td>\n      <td>0.889056</td>\n    </tr>\n    <tr>\n      <th>117</th>\n      <td>15</td>\n      <td>329960</td>\n      <td>23614</td>\n      <td>306346</td>\n      <td>False</td>\n      <td>1</td>\n      <td>18896.0</td>\n      <td>5720.0</td>\n      <td>300626.0</td>\n      <td>4718.0</td>\n      <td>1.0</td>\n      <td>584</td>\n      <td>565</td>\n      <td>329960</td>\n      <td>True</td>\n      <td>0.968366</td>\n      <td>0.800203</td>\n      <td>0.981328</td>\n      <td>0.783579</td>\n      <td>0.889014</td>\n    </tr>\n    <tr>\n      <th>118</th>\n      <td>15</td>\n      <td>227394</td>\n      <td>24616</td>\n      <td>202778</td>\n      <td>True</td>\n      <td>2</td>\n      <td>18896.0</td>\n      <td>4716.0</td>\n      <td>198062.0</td>\n      <td>5720.0</td>\n      <td>2.0</td>\n      <td>584</td>\n      <td>565</td>\n      <td>329960</td>\n      <td>True</td>\n      <td>0.954106</td>\n      <td>0.767631</td>\n      <td>0.976743</td>\n      <td>0.783611</td>\n      <td>0.868542</td>\n    </tr>\n    <tr>\n      <th>119</th>\n      <td>15</td>\n      <td>329960</td>\n      <td>24616</td>\n      <td>305344</td>\n      <td>False</td>\n      <td>2</td>\n      <td>18896.0</td>\n      <td>4718.0</td>\n      <td>300626.0</td>\n      <td>5720.0</td>\n      <td>2.0</td>\n      <td>584</td>\n      <td>565</td>\n      <td>329960</td>\n      <td>True</td>\n      <td>0.968366</td>\n      <td>0.767631</td>\n      <td>0.984549</td>\n      <td>0.783579</td>\n      <td>0.868542</td>\n    </tr>\n  </tbody>\n</table>\n<p>120 rows × 20 columns</p>\n</div>"
     },
     "metadata": {},
     "execution_count": 3
    }
   ],
   "source": [
    "data"
   ]
  },
  {
   "cell_type": "code",
   "execution_count": 4,
   "metadata": {},
   "outputs": [],
   "source": [
    "data_test= data[(data['test'] == True) & (data['annotator'] == 1)].reset_index()"
   ]
  },
  {
   "cell_type": "code",
   "execution_count": 5,
   "metadata": {},
   "outputs": [],
   "source": [
    "test_01= data_test[data_test['id'] == 1][['fov', 'n_all', 'p', 'n', 'tp', 'fp', 'tn', 'fn', 'acc', 'sens', 'spec']].round(4)\n",
    "test_01[['tp', 'fp', 'tn', 'fn']]= test_01[['tp', 'fp', 'tn', 'fn']].astype(int)"
   ]
  },
  {
   "cell_type": "code",
   "execution_count": 6,
   "metadata": {},
   "outputs": [
    {
     "output_type": "stream",
     "name": "stdout",
     "text": [
      "\\begin{tabular}{llrrrrrrrrrr}\n\\toprule\n{} &    fov &   n\\_all &      p &       n &     tp &    fp &      tn &    fn &     acc &    sens &    spec \\\\\n\\midrule\n34 &   True &  224377 &  29412 &  194965 &  23428 &  5417 &  189548 &  5984 &  0.9492 &  0.7965 &  0.9722 \\\\\n35 &  False &  329960 &  29440 &  300520 &  23430 &  5418 &  295102 &  6010 &  0.9654 &  0.7959 &  0.9820 \\\\\n\\bottomrule\n\\end{tabular}\n\n"
     ]
    }
   ],
   "source": [
    "print(test_01.to_latex())"
   ]
  },
  {
   "cell_type": "code",
   "execution_count": 7,
   "metadata": {},
   "outputs": [
    {
     "output_type": "execute_result",
     "data": {
      "text/plain": [
       "index               78.000000\n",
       "id                  10.500000\n",
       "n_all           226907.150000\n",
       "p                28882.450000\n",
       "n               198024.700000\n",
       "fov                  1.000000\n",
       "annotator            1.000000\n",
       "tp               22373.400000\n",
       "fp                5453.200000\n",
       "tn              192571.500000\n",
       "fn                6509.050000\n",
       "ground_truth         1.000000\n",
       "width              584.000000\n",
       "height             565.000000\n",
       "img_size        329960.000000\n",
       "test                 1.000000\n",
       "acc                  0.947283\n",
       "sens                 0.776027\n",
       "spec                 0.972495\n",
       "dice                 0.788123\n",
       "dice_no_fp           0.872700\n",
       "dtype: float64"
      ]
     },
     "metadata": {},
     "execution_count": 7
    }
   ],
   "source": [
    "data_test[data_test['fov'] == True].mean()"
   ]
  },
  {
   "cell_type": "code",
   "execution_count": 8,
   "metadata": {},
   "outputs": [
    {
     "output_type": "execute_result",
     "data": {
      "text/plain": [
       "index               79.000000\n",
       "id                  10.500000\n",
       "n_all           329960.000000\n",
       "p                28897.250000\n",
       "n               301062.750000\n",
       "fov                  0.000000\n",
       "annotator            1.000000\n",
       "tp               22374.000000\n",
       "fp                5453.350000\n",
       "tn              295609.400000\n",
       "fn                6523.250000\n",
       "ground_truth         1.000000\n",
       "width              584.000000\n",
       "height             565.000000\n",
       "img_size        329960.000000\n",
       "test                 1.000000\n",
       "acc                  0.963703\n",
       "sens                 0.775673\n",
       "spec                 0.981897\n",
       "dice                 0.787928\n",
       "dice_no_fp           0.872470\n",
       "dtype: float64"
      ]
     },
     "metadata": {},
     "execution_count": 8
    }
   ],
   "source": [
    "data_test[data_test['fov'] == False].mean()"
   ]
  },
  {
   "cell_type": "code",
   "execution_count": 9,
   "metadata": {},
   "outputs": [
    {
     "output_type": "execute_result",
     "data": {
      "text/plain": [
       "index                 40\n",
       "id                     1\n",
       "n_all             224377\n",
       "p                  23612\n",
       "n                 191364\n",
       "fov                 True\n",
       "annotator              1\n",
       "tp                 18689\n",
       "fp                  2966\n",
       "tn                185909\n",
       "fn                  2561\n",
       "ground_truth           1\n",
       "width                584\n",
       "height               565\n",
       "img_size          329960\n",
       "test                True\n",
       "acc             0.936479\n",
       "sens            0.660132\n",
       "spec            0.953513\n",
       "dice            0.743293\n",
       "dice_no_fp      0.795277\n",
       "dtype: object"
      ]
     },
     "metadata": {},
     "execution_count": 9
    }
   ],
   "source": [
    "data_test[data_test['fov'] == True].min()"
   ]
  },
  {
   "cell_type": "code",
   "execution_count": 10,
   "metadata": {},
   "outputs": [
    {
     "output_type": "execute_result",
     "data": {
      "text/plain": [
       "index                116\n",
       "id                    20\n",
       "n_all             227814\n",
       "p                  33723\n",
       "n                 203782\n",
       "fov                 True\n",
       "annotator              1\n",
       "tp                 27780\n",
       "fp                  9449\n",
       "tn                198062\n",
       "fn                  9622\n",
       "ground_truth           1\n",
       "width                584\n",
       "height               565\n",
       "img_size          329960\n",
       "test                True\n",
       "acc             0.954851\n",
       "sens             0.90642\n",
       "spec            0.984985\n",
       "dice            0.829774\n",
       "dice_no_fp      0.950913\n",
       "dtype: object"
      ]
     },
     "metadata": {},
     "execution_count": 10
    }
   ],
   "source": [
    "data_test[data_test['fov'] == True].max()"
   ]
  },
  {
   "cell_type": "code",
   "execution_count": 11,
   "metadata": {},
   "outputs": [
    {
     "output_type": "execute_result",
     "data": {
      "text/plain": [
       "    index  id   n_all      p       n    fov  annotator       tp      fp  \\\n",
       "0      40   7  227675  30144  197531   True          1  20664.0  2966.0   \n",
       "1      41   7  329960  30152  299808  False          1  20664.0  2966.0   \n",
       "2      44   2  225087  33723  191364   True          1  27780.0  5455.0   \n",
       "3      45   2  329960  33790  296170  False          1  27785.0  5457.0   \n",
       "4      48  19  227388  27367  200021   True          1  24806.0  7938.0   \n",
       "5      49  19  329960  27371  302589  False          1  24806.0  7938.0   \n",
       "6      52  10  227332  27152  200180   True          1  19469.0  4202.0   \n",
       "7      53  10  329960  27156  302804  False          1  19469.0  4202.0   \n",
       "8      56  12  227605  28490  199115   True          1  21958.0  4543.0   \n",
       "9      57  12  329960  28490  301470  False          1  21958.0  4543.0   \n",
       "10     60   9  227660  26740  200920   True          1  20556.0  6098.0   \n",
       "11     61   9  329960  26741  303219  False          1  20556.0  6098.0   \n",
       "12     64  14  225854  26631  199223   True          1  20540.0  4106.0   \n",
       "13     65  14  329960  26677  303283  False          1  20540.0  4106.0   \n",
       "14     68   4  227577  30343  197234   True          1  23769.0  5138.0   \n",
       "15     69   4  329960  30354  299606  False          1  23769.0  5138.0   \n",
       "16     72   6  227499  32105  195394   True          1  24194.0  6540.0   \n",
       "17     73   6  329960  32116  297844  False          1  24194.0  6540.0   \n",
       "18     76  16  227694  29791  197903   True          1  23202.0  4884.0   \n",
       "19     77  16  329960  29791  300169  False          1  23202.0  4884.0   \n",
       "20     80   8  225248  28311  196937   True          1  18689.0  3287.0   \n",
       "21     81   8  329960  28389  301571  False          1  18694.0  3287.0   \n",
       "22     84  20  227523  24264  203259   True          1  21106.0  9449.0   \n",
       "23     85  20  329960  24265  305695  False          1  21106.0  9449.0   \n",
       "24     88  17  225884  27851  198033   True          1  20414.0  3977.0   \n",
       "25     89  17  329960  27852  302108  False          1  20414.0  3977.0   \n",
       "26     92  11  227814  29533  198281   True          1  22427.0  5023.0   \n",
       "27     93  11  329960  29539  300421  False          1  22427.0  5023.0   \n",
       "28     96  13  227500  32252  195248   True          1  25917.0  7473.0   \n",
       "29     97  13  329960  32259  297701  False          1  25917.0  7473.0   \n",
       "30    100   3  225727  32886  192841   True          1  24419.0  4940.0   \n",
       "31    101   3  329960  32893  297067  False          1  24419.0  4940.0   \n",
       "32    104   5  227693  30898  196795   True          1  22795.0  4026.0   \n",
       "33    105   5  329960  30912  299048  False          1  22795.0  4026.0   \n",
       "34    108   1  224377  29412  194965   True          1  23428.0  5417.0   \n",
       "35    109   1  329960  29440  300520  False          1  23430.0  5418.0   \n",
       "36    112  18  227612  26144  201468   True          1  22439.0  7882.0   \n",
       "37    113  18  329960  26144  303816  False          1  22439.0  7882.0   \n",
       "38    116  15  227394  23612  203782   True          1  18896.0  5720.0   \n",
       "39    117  15  329960  23614  306346  False          1  18896.0  5720.0   \n",
       "\n",
       "          tn  ...  ground_truth  width  height  img_size  test       acc  \\\n",
       "0   194565.0  ...           1.0    584     565    329960  True  0.945334   \n",
       "1   296842.0  ...           1.0    584     565    329960  True  0.962256   \n",
       "2   185909.0  ...           1.0    584     565    329960  True  0.949362   \n",
       "3   290713.0  ...           1.0    584     565    329960  True  0.965262   \n",
       "4   192083.0  ...           1.0    584     565    329960  True  0.953828   \n",
       "5   294651.0  ...           1.0    584     565    329960  True  0.968169   \n",
       "6   195978.0  ...           1.0    584     565    329960  True  0.947720   \n",
       "7   298602.0  ...           1.0    584     565    329960  True  0.963968   \n",
       "8   194572.0  ...           1.0    584     565    329960  True  0.951341   \n",
       "9   296927.0  ...           1.0    584     565    329960  True  0.966435   \n",
       "10  194822.0  ...           1.0    584     565    329960  True  0.946051   \n",
       "11  297121.0  ...           1.0    584     565    329960  True  0.962774   \n",
       "12  195117.0  ...           1.0    584     565    329960  True  0.954851   \n",
       "13  299177.0  ...           1.0    584     565    329960  True  0.968957   \n",
       "14  192096.0  ...           1.0    584     565    329960  True  0.948536   \n",
       "15  294468.0  ...           1.0    584     565    329960  True  0.964471   \n",
       "16  188854.0  ...           1.0    584     565    329960  True  0.936479   \n",
       "17  291304.0  ...           1.0    584     565    329960  True  0.956170   \n",
       "18  193019.0  ...           1.0    584     565    329960  True  0.949612   \n",
       "19  295285.0  ...           1.0    584     565    329960  True  0.965229   \n",
       "20  193650.0  ...           1.0    584     565    329960  True  0.942690   \n",
       "21  298284.0  ...           1.0    584     565    329960  True  0.960656   \n",
       "22  193810.0  ...           1.0    584     565    329960  True  0.944590   \n",
       "23  296246.0  ...           1.0    584     565    329960  True  0.961789   \n",
       "24  194056.0  ...           1.0    584     565    329960  True  0.949470   \n",
       "25  298131.0  ...           1.0    584     565    329960  True  0.965405   \n",
       "26  193258.0  ...           1.0    584     565    329960  True  0.946759   \n",
       "27  295398.0  ...           1.0    584     565    329960  True  0.963223   \n",
       "28  187775.0  ...           1.0    584     565    329960  True  0.939305   \n",
       "29  290228.0  ...           1.0    584     565    329960  True  0.958131   \n",
       "30  187901.0  ...           1.0    584     565    329960  True  0.940605   \n",
       "31  292127.0  ...           1.0    584     565    329960  True  0.959347   \n",
       "32  192769.0  ...           1.0    584     565    329960  True  0.946731   \n",
       "33  295022.0  ...           1.0    584     565    329960  True  0.963199   \n",
       "34  189548.0  ...           1.0    584     565    329960  True  0.949188   \n",
       "35  295102.0  ...           1.0    584     565    329960  True  0.965365   \n",
       "36  193586.0  ...           1.0    584     565    329960  True  0.949093   \n",
       "37  295934.0  ...           1.0    584     565    329960  True  0.964884   \n",
       "38  198062.0  ...           1.0    584     565    329960  True  0.954106   \n",
       "39  300626.0  ...           1.0    584     565    329960  True  0.968366   \n",
       "\n",
       "        sens      spec      dice  dice_no_fp  \n",
       "0   0.685510  0.984985  0.768550    0.813415  \n",
       "1   0.685328  0.990107  0.768436    0.813287  \n",
       "2   0.823770  0.971494  0.829774    0.903371  \n",
       "3   0.822285  0.981575  0.829007    0.902477  \n",
       "4   0.906420  0.960314  0.825340    0.950913  \n",
       "5   0.906288  0.973766  0.825285    0.950840  \n",
       "6   0.717037  0.979009  0.766149    0.835203  \n",
       "7   0.716932  0.986123  0.766089    0.835131  \n",
       "8   0.770727  0.977184  0.798603    0.870520  \n",
       "9   0.770727  0.984931  0.798603    0.870520  \n",
       "10  0.768736  0.969650  0.769974    0.869249  \n",
       "11  0.768707  0.979889  0.769960    0.869231  \n",
       "12  0.771282  0.979390  0.801139    0.870874  \n",
       "13  0.769952  0.986461  0.800421    0.870026  \n",
       "14  0.783344  0.973950  0.802329    0.878511  \n",
       "15  0.783060  0.982851  0.802180    0.878333  \n",
       "16  0.753590  0.966529  0.770031    0.859482  \n",
       "17  0.753332  0.978042  0.769897    0.859315  \n",
       "18  0.778826  0.975321  0.801769    0.875663  \n",
       "19  0.778826  0.983729  0.801769    0.875663  \n",
       "20  0.660132  0.983309  0.743293    0.795277  \n",
       "21  0.658494  0.989100  0.742267    0.794087  \n",
       "22  0.869848  0.953513  0.770025    0.930395  \n",
       "23  0.869812  0.969090  0.770011    0.930374  \n",
       "24  0.732972  0.979917  0.781517    0.845913  \n",
       "25  0.732946  0.986836  0.781502    0.845896  \n",
       "26  0.759388  0.974667  0.787147    0.863241  \n",
       "27  0.759234  0.983280  0.787064    0.863141  \n",
       "28  0.803578  0.961726  0.789647    0.891093  \n",
       "29  0.803404  0.974898  0.789563    0.890986  \n",
       "30  0.742535  0.974383  0.784609    0.852247  \n",
       "31  0.742377  0.983371  0.784521    0.852143  \n",
       "32  0.737750  0.979542  0.789861    0.849086  \n",
       "33  0.737416  0.986537  0.789670    0.848865  \n",
       "34  0.796546  0.972216  0.804298    0.886752  \n",
       "35  0.795856  0.981971  0.803939    0.886325  \n",
       "36  0.858285  0.960877  0.794793    0.923739  \n",
       "37  0.858285  0.974057  0.794793    0.923739  \n",
       "38  0.800271  0.971931  0.783611    0.889056  \n",
       "39  0.800203  0.981328  0.783579    0.889014  \n",
       "\n",
       "[40 rows x 21 columns]"
      ],
      "text/html": "<div>\n<style scoped>\n    .dataframe tbody tr th:only-of-type {\n        vertical-align: middle;\n    }\n\n    .dataframe tbody tr th {\n        vertical-align: top;\n    }\n\n    .dataframe thead th {\n        text-align: right;\n    }\n</style>\n<table border=\"1\" class=\"dataframe\">\n  <thead>\n    <tr style=\"text-align: right;\">\n      <th></th>\n      <th>index</th>\n      <th>id</th>\n      <th>n_all</th>\n      <th>p</th>\n      <th>n</th>\n      <th>fov</th>\n      <th>annotator</th>\n      <th>tp</th>\n      <th>fp</th>\n      <th>tn</th>\n      <th>...</th>\n      <th>ground_truth</th>\n      <th>width</th>\n      <th>height</th>\n      <th>img_size</th>\n      <th>test</th>\n      <th>acc</th>\n      <th>sens</th>\n      <th>spec</th>\n      <th>dice</th>\n      <th>dice_no_fp</th>\n    </tr>\n  </thead>\n  <tbody>\n    <tr>\n      <th>0</th>\n      <td>40</td>\n      <td>7</td>\n      <td>227675</td>\n      <td>30144</td>\n      <td>197531</td>\n      <td>True</td>\n      <td>1</td>\n      <td>20664.0</td>\n      <td>2966.0</td>\n      <td>194565.0</td>\n      <td>...</td>\n      <td>1.0</td>\n      <td>584</td>\n      <td>565</td>\n      <td>329960</td>\n      <td>True</td>\n      <td>0.945334</td>\n      <td>0.685510</td>\n      <td>0.984985</td>\n      <td>0.768550</td>\n      <td>0.813415</td>\n    </tr>\n    <tr>\n      <th>1</th>\n      <td>41</td>\n      <td>7</td>\n      <td>329960</td>\n      <td>30152</td>\n      <td>299808</td>\n      <td>False</td>\n      <td>1</td>\n      <td>20664.0</td>\n      <td>2966.0</td>\n      <td>296842.0</td>\n      <td>...</td>\n      <td>1.0</td>\n      <td>584</td>\n      <td>565</td>\n      <td>329960</td>\n      <td>True</td>\n      <td>0.962256</td>\n      <td>0.685328</td>\n      <td>0.990107</td>\n      <td>0.768436</td>\n      <td>0.813287</td>\n    </tr>\n    <tr>\n      <th>2</th>\n      <td>44</td>\n      <td>2</td>\n      <td>225087</td>\n      <td>33723</td>\n      <td>191364</td>\n      <td>True</td>\n      <td>1</td>\n      <td>27780.0</td>\n      <td>5455.0</td>\n      <td>185909.0</td>\n      <td>...</td>\n      <td>1.0</td>\n      <td>584</td>\n      <td>565</td>\n      <td>329960</td>\n      <td>True</td>\n      <td>0.949362</td>\n      <td>0.823770</td>\n      <td>0.971494</td>\n      <td>0.829774</td>\n      <td>0.903371</td>\n    </tr>\n    <tr>\n      <th>3</th>\n      <td>45</td>\n      <td>2</td>\n      <td>329960</td>\n      <td>33790</td>\n      <td>296170</td>\n      <td>False</td>\n      <td>1</td>\n      <td>27785.0</td>\n      <td>5457.0</td>\n      <td>290713.0</td>\n      <td>...</td>\n      <td>1.0</td>\n      <td>584</td>\n      <td>565</td>\n      <td>329960</td>\n      <td>True</td>\n      <td>0.965262</td>\n      <td>0.822285</td>\n      <td>0.981575</td>\n      <td>0.829007</td>\n      <td>0.902477</td>\n    </tr>\n    <tr>\n      <th>4</th>\n      <td>48</td>\n      <td>19</td>\n      <td>227388</td>\n      <td>27367</td>\n      <td>200021</td>\n      <td>True</td>\n      <td>1</td>\n      <td>24806.0</td>\n      <td>7938.0</td>\n      <td>192083.0</td>\n      <td>...</td>\n      <td>1.0</td>\n      <td>584</td>\n      <td>565</td>\n      <td>329960</td>\n      <td>True</td>\n      <td>0.953828</td>\n      <td>0.906420</td>\n      <td>0.960314</td>\n      <td>0.825340</td>\n      <td>0.950913</td>\n    </tr>\n    <tr>\n      <th>5</th>\n      <td>49</td>\n      <td>19</td>\n      <td>329960</td>\n      <td>27371</td>\n      <td>302589</td>\n      <td>False</td>\n      <td>1</td>\n      <td>24806.0</td>\n      <td>7938.0</td>\n      <td>294651.0</td>\n      <td>...</td>\n      <td>1.0</td>\n      <td>584</td>\n      <td>565</td>\n      <td>329960</td>\n      <td>True</td>\n      <td>0.968169</td>\n      <td>0.906288</td>\n      <td>0.973766</td>\n      <td>0.825285</td>\n      <td>0.950840</td>\n    </tr>\n    <tr>\n      <th>6</th>\n      <td>52</td>\n      <td>10</td>\n      <td>227332</td>\n      <td>27152</td>\n      <td>200180</td>\n      <td>True</td>\n      <td>1</td>\n      <td>19469.0</td>\n      <td>4202.0</td>\n      <td>195978.0</td>\n      <td>...</td>\n      <td>1.0</td>\n      <td>584</td>\n      <td>565</td>\n      <td>329960</td>\n      <td>True</td>\n      <td>0.947720</td>\n      <td>0.717037</td>\n      <td>0.979009</td>\n      <td>0.766149</td>\n      <td>0.835203</td>\n    </tr>\n    <tr>\n      <th>7</th>\n      <td>53</td>\n      <td>10</td>\n      <td>329960</td>\n      <td>27156</td>\n      <td>302804</td>\n      <td>False</td>\n      <td>1</td>\n      <td>19469.0</td>\n      <td>4202.0</td>\n      <td>298602.0</td>\n      <td>...</td>\n      <td>1.0</td>\n      <td>584</td>\n      <td>565</td>\n      <td>329960</td>\n      <td>True</td>\n      <td>0.963968</td>\n      <td>0.716932</td>\n      <td>0.986123</td>\n      <td>0.766089</td>\n      <td>0.835131</td>\n    </tr>\n    <tr>\n      <th>8</th>\n      <td>56</td>\n      <td>12</td>\n      <td>227605</td>\n      <td>28490</td>\n      <td>199115</td>\n      <td>True</td>\n      <td>1</td>\n      <td>21958.0</td>\n      <td>4543.0</td>\n      <td>194572.0</td>\n      <td>...</td>\n      <td>1.0</td>\n      <td>584</td>\n      <td>565</td>\n      <td>329960</td>\n      <td>True</td>\n      <td>0.951341</td>\n      <td>0.770727</td>\n      <td>0.977184</td>\n      <td>0.798603</td>\n      <td>0.870520</td>\n    </tr>\n    <tr>\n      <th>9</th>\n      <td>57</td>\n      <td>12</td>\n      <td>329960</td>\n      <td>28490</td>\n      <td>301470</td>\n      <td>False</td>\n      <td>1</td>\n      <td>21958.0</td>\n      <td>4543.0</td>\n      <td>296927.0</td>\n      <td>...</td>\n      <td>1.0</td>\n      <td>584</td>\n      <td>565</td>\n      <td>329960</td>\n      <td>True</td>\n      <td>0.966435</td>\n      <td>0.770727</td>\n      <td>0.984931</td>\n      <td>0.798603</td>\n      <td>0.870520</td>\n    </tr>\n    <tr>\n      <th>10</th>\n      <td>60</td>\n      <td>9</td>\n      <td>227660</td>\n      <td>26740</td>\n      <td>200920</td>\n      <td>True</td>\n      <td>1</td>\n      <td>20556.0</td>\n      <td>6098.0</td>\n      <td>194822.0</td>\n      <td>...</td>\n      <td>1.0</td>\n      <td>584</td>\n      <td>565</td>\n      <td>329960</td>\n      <td>True</td>\n      <td>0.946051</td>\n      <td>0.768736</td>\n      <td>0.969650</td>\n      <td>0.769974</td>\n      <td>0.869249</td>\n    </tr>\n    <tr>\n      <th>11</th>\n      <td>61</td>\n      <td>9</td>\n      <td>329960</td>\n      <td>26741</td>\n      <td>303219</td>\n      <td>False</td>\n      <td>1</td>\n      <td>20556.0</td>\n      <td>6098.0</td>\n      <td>297121.0</td>\n      <td>...</td>\n      <td>1.0</td>\n      <td>584</td>\n      <td>565</td>\n      <td>329960</td>\n      <td>True</td>\n      <td>0.962774</td>\n      <td>0.768707</td>\n      <td>0.979889</td>\n      <td>0.769960</td>\n      <td>0.869231</td>\n    </tr>\n    <tr>\n      <th>12</th>\n      <td>64</td>\n      <td>14</td>\n      <td>225854</td>\n      <td>26631</td>\n      <td>199223</td>\n      <td>True</td>\n      <td>1</td>\n      <td>20540.0</td>\n      <td>4106.0</td>\n      <td>195117.0</td>\n      <td>...</td>\n      <td>1.0</td>\n      <td>584</td>\n      <td>565</td>\n      <td>329960</td>\n      <td>True</td>\n      <td>0.954851</td>\n      <td>0.771282</td>\n      <td>0.979390</td>\n      <td>0.801139</td>\n      <td>0.870874</td>\n    </tr>\n    <tr>\n      <th>13</th>\n      <td>65</td>\n      <td>14</td>\n      <td>329960</td>\n      <td>26677</td>\n      <td>303283</td>\n      <td>False</td>\n      <td>1</td>\n      <td>20540.0</td>\n      <td>4106.0</td>\n      <td>299177.0</td>\n      <td>...</td>\n      <td>1.0</td>\n      <td>584</td>\n      <td>565</td>\n      <td>329960</td>\n      <td>True</td>\n      <td>0.968957</td>\n      <td>0.769952</td>\n      <td>0.986461</td>\n      <td>0.800421</td>\n      <td>0.870026</td>\n    </tr>\n    <tr>\n      <th>14</th>\n      <td>68</td>\n      <td>4</td>\n      <td>227577</td>\n      <td>30343</td>\n      <td>197234</td>\n      <td>True</td>\n      <td>1</td>\n      <td>23769.0</td>\n      <td>5138.0</td>\n      <td>192096.0</td>\n      <td>...</td>\n      <td>1.0</td>\n      <td>584</td>\n      <td>565</td>\n      <td>329960</td>\n      <td>True</td>\n      <td>0.948536</td>\n      <td>0.783344</td>\n      <td>0.973950</td>\n      <td>0.802329</td>\n      <td>0.878511</td>\n    </tr>\n    <tr>\n      <th>15</th>\n      <td>69</td>\n      <td>4</td>\n      <td>329960</td>\n      <td>30354</td>\n      <td>299606</td>\n      <td>False</td>\n      <td>1</td>\n      <td>23769.0</td>\n      <td>5138.0</td>\n      <td>294468.0</td>\n      <td>...</td>\n      <td>1.0</td>\n      <td>584</td>\n      <td>565</td>\n      <td>329960</td>\n      <td>True</td>\n      <td>0.964471</td>\n      <td>0.783060</td>\n      <td>0.982851</td>\n      <td>0.802180</td>\n      <td>0.878333</td>\n    </tr>\n    <tr>\n      <th>16</th>\n      <td>72</td>\n      <td>6</td>\n      <td>227499</td>\n      <td>32105</td>\n      <td>195394</td>\n      <td>True</td>\n      <td>1</td>\n      <td>24194.0</td>\n      <td>6540.0</td>\n      <td>188854.0</td>\n      <td>...</td>\n      <td>1.0</td>\n      <td>584</td>\n      <td>565</td>\n      <td>329960</td>\n      <td>True</td>\n      <td>0.936479</td>\n      <td>0.753590</td>\n      <td>0.966529</td>\n      <td>0.770031</td>\n      <td>0.859482</td>\n    </tr>\n    <tr>\n      <th>17</th>\n      <td>73</td>\n      <td>6</td>\n      <td>329960</td>\n      <td>32116</td>\n      <td>297844</td>\n      <td>False</td>\n      <td>1</td>\n      <td>24194.0</td>\n      <td>6540.0</td>\n      <td>291304.0</td>\n      <td>...</td>\n      <td>1.0</td>\n      <td>584</td>\n      <td>565</td>\n      <td>329960</td>\n      <td>True</td>\n      <td>0.956170</td>\n      <td>0.753332</td>\n      <td>0.978042</td>\n      <td>0.769897</td>\n      <td>0.859315</td>\n    </tr>\n    <tr>\n      <th>18</th>\n      <td>76</td>\n      <td>16</td>\n      <td>227694</td>\n      <td>29791</td>\n      <td>197903</td>\n      <td>True</td>\n      <td>1</td>\n      <td>23202.0</td>\n      <td>4884.0</td>\n      <td>193019.0</td>\n      <td>...</td>\n      <td>1.0</td>\n      <td>584</td>\n      <td>565</td>\n      <td>329960</td>\n      <td>True</td>\n      <td>0.949612</td>\n      <td>0.778826</td>\n      <td>0.975321</td>\n      <td>0.801769</td>\n      <td>0.875663</td>\n    </tr>\n    <tr>\n      <th>19</th>\n      <td>77</td>\n      <td>16</td>\n      <td>329960</td>\n      <td>29791</td>\n      <td>300169</td>\n      <td>False</td>\n      <td>1</td>\n      <td>23202.0</td>\n      <td>4884.0</td>\n      <td>295285.0</td>\n      <td>...</td>\n      <td>1.0</td>\n      <td>584</td>\n      <td>565</td>\n      <td>329960</td>\n      <td>True</td>\n      <td>0.965229</td>\n      <td>0.778826</td>\n      <td>0.983729</td>\n      <td>0.801769</td>\n      <td>0.875663</td>\n    </tr>\n    <tr>\n      <th>20</th>\n      <td>80</td>\n      <td>8</td>\n      <td>225248</td>\n      <td>28311</td>\n      <td>196937</td>\n      <td>True</td>\n      <td>1</td>\n      <td>18689.0</td>\n      <td>3287.0</td>\n      <td>193650.0</td>\n      <td>...</td>\n      <td>1.0</td>\n      <td>584</td>\n      <td>565</td>\n      <td>329960</td>\n      <td>True</td>\n      <td>0.942690</td>\n      <td>0.660132</td>\n      <td>0.983309</td>\n      <td>0.743293</td>\n      <td>0.795277</td>\n    </tr>\n    <tr>\n      <th>21</th>\n      <td>81</td>\n      <td>8</td>\n      <td>329960</td>\n      <td>28389</td>\n      <td>301571</td>\n      <td>False</td>\n      <td>1</td>\n      <td>18694.0</td>\n      <td>3287.0</td>\n      <td>298284.0</td>\n      <td>...</td>\n      <td>1.0</td>\n      <td>584</td>\n      <td>565</td>\n      <td>329960</td>\n      <td>True</td>\n      <td>0.960656</td>\n      <td>0.658494</td>\n      <td>0.989100</td>\n      <td>0.742267</td>\n      <td>0.794087</td>\n    </tr>\n    <tr>\n      <th>22</th>\n      <td>84</td>\n      <td>20</td>\n      <td>227523</td>\n      <td>24264</td>\n      <td>203259</td>\n      <td>True</td>\n      <td>1</td>\n      <td>21106.0</td>\n      <td>9449.0</td>\n      <td>193810.0</td>\n      <td>...</td>\n      <td>1.0</td>\n      <td>584</td>\n      <td>565</td>\n      <td>329960</td>\n      <td>True</td>\n      <td>0.944590</td>\n      <td>0.869848</td>\n      <td>0.953513</td>\n      <td>0.770025</td>\n      <td>0.930395</td>\n    </tr>\n    <tr>\n      <th>23</th>\n      <td>85</td>\n      <td>20</td>\n      <td>329960</td>\n      <td>24265</td>\n      <td>305695</td>\n      <td>False</td>\n      <td>1</td>\n      <td>21106.0</td>\n      <td>9449.0</td>\n      <td>296246.0</td>\n      <td>...</td>\n      <td>1.0</td>\n      <td>584</td>\n      <td>565</td>\n      <td>329960</td>\n      <td>True</td>\n      <td>0.961789</td>\n      <td>0.869812</td>\n      <td>0.969090</td>\n      <td>0.770011</td>\n      <td>0.930374</td>\n    </tr>\n    <tr>\n      <th>24</th>\n      <td>88</td>\n      <td>17</td>\n      <td>225884</td>\n      <td>27851</td>\n      <td>198033</td>\n      <td>True</td>\n      <td>1</td>\n      <td>20414.0</td>\n      <td>3977.0</td>\n      <td>194056.0</td>\n      <td>...</td>\n      <td>1.0</td>\n      <td>584</td>\n      <td>565</td>\n      <td>329960</td>\n      <td>True</td>\n      <td>0.949470</td>\n      <td>0.732972</td>\n      <td>0.979917</td>\n      <td>0.781517</td>\n      <td>0.845913</td>\n    </tr>\n    <tr>\n      <th>25</th>\n      <td>89</td>\n      <td>17</td>\n      <td>329960</td>\n      <td>27852</td>\n      <td>302108</td>\n      <td>False</td>\n      <td>1</td>\n      <td>20414.0</td>\n      <td>3977.0</td>\n      <td>298131.0</td>\n      <td>...</td>\n      <td>1.0</td>\n      <td>584</td>\n      <td>565</td>\n      <td>329960</td>\n      <td>True</td>\n      <td>0.965405</td>\n      <td>0.732946</td>\n      <td>0.986836</td>\n      <td>0.781502</td>\n      <td>0.845896</td>\n    </tr>\n    <tr>\n      <th>26</th>\n      <td>92</td>\n      <td>11</td>\n      <td>227814</td>\n      <td>29533</td>\n      <td>198281</td>\n      <td>True</td>\n      <td>1</td>\n      <td>22427.0</td>\n      <td>5023.0</td>\n      <td>193258.0</td>\n      <td>...</td>\n      <td>1.0</td>\n      <td>584</td>\n      <td>565</td>\n      <td>329960</td>\n      <td>True</td>\n      <td>0.946759</td>\n      <td>0.759388</td>\n      <td>0.974667</td>\n      <td>0.787147</td>\n      <td>0.863241</td>\n    </tr>\n    <tr>\n      <th>27</th>\n      <td>93</td>\n      <td>11</td>\n      <td>329960</td>\n      <td>29539</td>\n      <td>300421</td>\n      <td>False</td>\n      <td>1</td>\n      <td>22427.0</td>\n      <td>5023.0</td>\n      <td>295398.0</td>\n      <td>...</td>\n      <td>1.0</td>\n      <td>584</td>\n      <td>565</td>\n      <td>329960</td>\n      <td>True</td>\n      <td>0.963223</td>\n      <td>0.759234</td>\n      <td>0.983280</td>\n      <td>0.787064</td>\n      <td>0.863141</td>\n    </tr>\n    <tr>\n      <th>28</th>\n      <td>96</td>\n      <td>13</td>\n      <td>227500</td>\n      <td>32252</td>\n      <td>195248</td>\n      <td>True</td>\n      <td>1</td>\n      <td>25917.0</td>\n      <td>7473.0</td>\n      <td>187775.0</td>\n      <td>...</td>\n      <td>1.0</td>\n      <td>584</td>\n      <td>565</td>\n      <td>329960</td>\n      <td>True</td>\n      <td>0.939305</td>\n      <td>0.803578</td>\n      <td>0.961726</td>\n      <td>0.789647</td>\n      <td>0.891093</td>\n    </tr>\n    <tr>\n      <th>29</th>\n      <td>97</td>\n      <td>13</td>\n      <td>329960</td>\n      <td>32259</td>\n      <td>297701</td>\n      <td>False</td>\n      <td>1</td>\n      <td>25917.0</td>\n      <td>7473.0</td>\n      <td>290228.0</td>\n      <td>...</td>\n      <td>1.0</td>\n      <td>584</td>\n      <td>565</td>\n      <td>329960</td>\n      <td>True</td>\n      <td>0.958131</td>\n      <td>0.803404</td>\n      <td>0.974898</td>\n      <td>0.789563</td>\n      <td>0.890986</td>\n    </tr>\n    <tr>\n      <th>30</th>\n      <td>100</td>\n      <td>3</td>\n      <td>225727</td>\n      <td>32886</td>\n      <td>192841</td>\n      <td>True</td>\n      <td>1</td>\n      <td>24419.0</td>\n      <td>4940.0</td>\n      <td>187901.0</td>\n      <td>...</td>\n      <td>1.0</td>\n      <td>584</td>\n      <td>565</td>\n      <td>329960</td>\n      <td>True</td>\n      <td>0.940605</td>\n      <td>0.742535</td>\n      <td>0.974383</td>\n      <td>0.784609</td>\n      <td>0.852247</td>\n    </tr>\n    <tr>\n      <th>31</th>\n      <td>101</td>\n      <td>3</td>\n      <td>329960</td>\n      <td>32893</td>\n      <td>297067</td>\n      <td>False</td>\n      <td>1</td>\n      <td>24419.0</td>\n      <td>4940.0</td>\n      <td>292127.0</td>\n      <td>...</td>\n      <td>1.0</td>\n      <td>584</td>\n      <td>565</td>\n      <td>329960</td>\n      <td>True</td>\n      <td>0.959347</td>\n      <td>0.742377</td>\n      <td>0.983371</td>\n      <td>0.784521</td>\n      <td>0.852143</td>\n    </tr>\n    <tr>\n      <th>32</th>\n      <td>104</td>\n      <td>5</td>\n      <td>227693</td>\n      <td>30898</td>\n      <td>196795</td>\n      <td>True</td>\n      <td>1</td>\n      <td>22795.0</td>\n      <td>4026.0</td>\n      <td>192769.0</td>\n      <td>...</td>\n      <td>1.0</td>\n      <td>584</td>\n      <td>565</td>\n      <td>329960</td>\n      <td>True</td>\n      <td>0.946731</td>\n      <td>0.737750</td>\n      <td>0.979542</td>\n      <td>0.789861</td>\n      <td>0.849086</td>\n    </tr>\n    <tr>\n      <th>33</th>\n      <td>105</td>\n      <td>5</td>\n      <td>329960</td>\n      <td>30912</td>\n      <td>299048</td>\n      <td>False</td>\n      <td>1</td>\n      <td>22795.0</td>\n      <td>4026.0</td>\n      <td>295022.0</td>\n      <td>...</td>\n      <td>1.0</td>\n      <td>584</td>\n      <td>565</td>\n      <td>329960</td>\n      <td>True</td>\n      <td>0.963199</td>\n      <td>0.737416</td>\n      <td>0.986537</td>\n      <td>0.789670</td>\n      <td>0.848865</td>\n    </tr>\n    <tr>\n      <th>34</th>\n      <td>108</td>\n      <td>1</td>\n      <td>224377</td>\n      <td>29412</td>\n      <td>194965</td>\n      <td>True</td>\n      <td>1</td>\n      <td>23428.0</td>\n      <td>5417.0</td>\n      <td>189548.0</td>\n      <td>...</td>\n      <td>1.0</td>\n      <td>584</td>\n      <td>565</td>\n      <td>329960</td>\n      <td>True</td>\n      <td>0.949188</td>\n      <td>0.796546</td>\n      <td>0.972216</td>\n      <td>0.804298</td>\n      <td>0.886752</td>\n    </tr>\n    <tr>\n      <th>35</th>\n      <td>109</td>\n      <td>1</td>\n      <td>329960</td>\n      <td>29440</td>\n      <td>300520</td>\n      <td>False</td>\n      <td>1</td>\n      <td>23430.0</td>\n      <td>5418.0</td>\n      <td>295102.0</td>\n      <td>...</td>\n      <td>1.0</td>\n      <td>584</td>\n      <td>565</td>\n      <td>329960</td>\n      <td>True</td>\n      <td>0.965365</td>\n      <td>0.795856</td>\n      <td>0.981971</td>\n      <td>0.803939</td>\n      <td>0.886325</td>\n    </tr>\n    <tr>\n      <th>36</th>\n      <td>112</td>\n      <td>18</td>\n      <td>227612</td>\n      <td>26144</td>\n      <td>201468</td>\n      <td>True</td>\n      <td>1</td>\n      <td>22439.0</td>\n      <td>7882.0</td>\n      <td>193586.0</td>\n      <td>...</td>\n      <td>1.0</td>\n      <td>584</td>\n      <td>565</td>\n      <td>329960</td>\n      <td>True</td>\n      <td>0.949093</td>\n      <td>0.858285</td>\n      <td>0.960877</td>\n      <td>0.794793</td>\n      <td>0.923739</td>\n    </tr>\n    <tr>\n      <th>37</th>\n      <td>113</td>\n      <td>18</td>\n      <td>329960</td>\n      <td>26144</td>\n      <td>303816</td>\n      <td>False</td>\n      <td>1</td>\n      <td>22439.0</td>\n      <td>7882.0</td>\n      <td>295934.0</td>\n      <td>...</td>\n      <td>1.0</td>\n      <td>584</td>\n      <td>565</td>\n      <td>329960</td>\n      <td>True</td>\n      <td>0.964884</td>\n      <td>0.858285</td>\n      <td>0.974057</td>\n      <td>0.794793</td>\n      <td>0.923739</td>\n    </tr>\n    <tr>\n      <th>38</th>\n      <td>116</td>\n      <td>15</td>\n      <td>227394</td>\n      <td>23612</td>\n      <td>203782</td>\n      <td>True</td>\n      <td>1</td>\n      <td>18896.0</td>\n      <td>5720.0</td>\n      <td>198062.0</td>\n      <td>...</td>\n      <td>1.0</td>\n      <td>584</td>\n      <td>565</td>\n      <td>329960</td>\n      <td>True</td>\n      <td>0.954106</td>\n      <td>0.800271</td>\n      <td>0.971931</td>\n      <td>0.783611</td>\n      <td>0.889056</td>\n    </tr>\n    <tr>\n      <th>39</th>\n      <td>117</td>\n      <td>15</td>\n      <td>329960</td>\n      <td>23614</td>\n      <td>306346</td>\n      <td>False</td>\n      <td>1</td>\n      <td>18896.0</td>\n      <td>5720.0</td>\n      <td>300626.0</td>\n      <td>...</td>\n      <td>1.0</td>\n      <td>584</td>\n      <td>565</td>\n      <td>329960</td>\n      <td>True</td>\n      <td>0.968366</td>\n      <td>0.800203</td>\n      <td>0.981328</td>\n      <td>0.783579</td>\n      <td>0.889014</td>\n    </tr>\n  </tbody>\n</table>\n<p>40 rows × 21 columns</p>\n</div>"
     },
     "metadata": {},
     "execution_count": 11
    }
   ],
   "source": [
    "data_test"
   ]
  },
  {
   "cell_type": "code",
   "execution_count": 12,
   "metadata": {},
   "outputs": [
    {
     "output_type": "execute_result",
     "data": {
      "text/plain": [
       "id                  10.500000\n",
       "n_all           226907.150000\n",
       "p                27826.600000\n",
       "n               199080.550000\n",
       "fov                  1.000000\n",
       "annotator            2.000000\n",
       "tp               22373.400000\n",
       "fp                6509.050000\n",
       "tn              192571.500000\n",
       "fn                5453.200000\n",
       "ground_truth         2.000000\n",
       "width              584.000000\n",
       "height             565.000000\n",
       "img_size        329960.000000\n",
       "test                 1.000000\n",
       "acc                  0.947283\n",
       "sens                 0.806601\n",
       "spec                 0.967369\n",
       "dice                 0.788123\n",
       "dice_no_fp           0.892299\n",
       "dtype: float64"
      ]
     },
     "metadata": {},
     "execution_count": 12
    }
   ],
   "source": [
    "data[(data['test'] == True) & (data['annotator'] == 2) & (data['fov'] == True)].mean()"
   ]
  },
  {
   "source": [
    "## Moving images for illustration"
   ],
   "cell_type": "markdown",
   "metadata": {}
  },
  {
   "cell_type": "code",
   "execution_count": 13,
   "metadata": {},
   "outputs": [],
   "source": [
    "Image.open(os.path.join(drive_dir, 'test', 'images', '01_test.tif')).save(os.path.join(figures_dir, '01_test.pdf'))\n",
    "Image.fromarray(255 - np.array(Image.open(os.path.join(drive_dir, 'test', 'manual1', '01_manual1.gif')))).save(os.path.join(figures_dir, '01_manual1.pdf'))\n",
    "Image.fromarray(255 - 255*np.array(Image.open(os.path.join(drive_dir, 'test', 'manual2', '01_manual2.gif')))).save(os.path.join(figures_dir, '01_manual2.pdf'))\n",
    "Image.open(os.path.join(drive_dir, 'test', 'mask', '01_test_mask.gif')).save(os.path.join(figures_dir, '01_test_mask.pdf'))\n",
    "\n",
    "Image.open(os.path.join(drive_dir, 'test', 'images', '01_test.tif')).save(os.path.join(figures_dir, '01_test.png'))\n",
    "Image.fromarray(255 - np.array(Image.open(os.path.join(drive_dir, 'test', 'manual1', '01_manual1.gif')))).save(os.path.join(figures_dir, '01_manual1.png'))\n",
    "Image.fromarray(255 - 255*np.array(Image.open(os.path.join(drive_dir, 'test', 'manual2', '01_manual2.gif')))).save(os.path.join(figures_dir, '01_manual2.png'))\n",
    "Image.open(os.path.join(drive_dir, 'test', 'mask', '01_test_mask.gif')).save(os.path.join(figures_dir, '01_test_mask.png'))"
   ]
  },
  {
   "source": [
    "## Checking accuracy and sensitivity when computing at the image level and averaging compared to computing for all pixels"
   ],
   "cell_type": "markdown",
   "metadata": {}
  },
  {
   "cell_type": "code",
   "execution_count": 14,
   "metadata": {},
   "outputs": [
    {
     "output_type": "stream",
     "name": "stdout",
     "text": [
      "   ground_truth    fov       acc      sens      spec mor/rom\n0             1   True  0.947283  0.776027  0.972495     MoR\n1             1   True  0.947281  0.774637  0.972462     RoM\n2             1  False  0.963703  0.775673  0.981897     MoR\n3             1  False  0.963703  0.774261  0.981886     RoM\n4             2   True  0.947283  0.806601  0.967369     MoR\n5             2   True  0.947281  0.804029  0.967304     RoM\n6             2  False  0.963703  0.806600  0.978443     MoR\n7             2  False  0.963703  0.804029  0.978409     RoM\n"
     ]
    }
   ],
   "source": [
    "def image_level_means(annotator, fov):\n",
    "    tmp= data[(data['test'] == True) & (data['annotator'] == annotator) & (data['fov'] == fov)].mean()[['acc', 'sens', 'spec']]\n",
    "    return annotator, fov, tmp[0], tmp[1], tmp[2]\n",
    "\n",
    "def overall_scores(annotator, fov):\n",
    "    tp, tn, p, n= data[(data['test'] == True) & (data['annotator'] == annotator) & (data['fov'] == fov)].sum()[['tp', 'tn', 'p', 'n']]\n",
    "    return annotator, fov, (tp + tn)/(p + n), tp/p, tn/n\n",
    "\n",
    "possible_scores= []\n",
    "for annotator in [1, 2]:\n",
    "    for fov in [True, False]:\n",
    "        possible_scores.append(list(image_level_means(annotator, fov)) + ['MoR'])\n",
    "        possible_scores.append(list(overall_scores(annotator, fov)) + ['RoM'])\n",
    "\n",
    "print(pd.DataFrame(possible_scores, columns=['ground_truth', 'fov', 'acc', 'sens', 'spec', 'mor/rom']))"
   ]
  },
  {
   "cell_type": "code",
   "execution_count": null,
   "metadata": {},
   "outputs": [],
   "source": []
  }
 ]
}